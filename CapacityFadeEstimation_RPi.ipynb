{
  "nbformat": 4,
  "nbformat_minor": 0,
  "metadata": {
    "colab": {
      "name": "CapacityFadeEstimation_RPi.ipynb",
      "version": "0.3.2",
      "provenance": [],
      "collapsed_sections": []
    },
    "kernelspec": {
      "name": "python3",
      "display_name": "Python 3"
    }
  },
  "cells": [
    {
      "metadata": {
        "id": "_D8xHYEN7-lO",
        "colab_type": "text"
      },
      "cell_type": "markdown",
      "source": [
        "**Capacity Fade Estimation on Raspberry Pi**\n",
        "\n",
        "---\n",
        "\n",
        "\n",
        "Data FIle: Qi Data File (Q0Test_data_25C_Test0.csv)\n",
        "\n",
        "---\n",
        "\n",
        "\n",
        "Authors: [Anandha Natarajan](https://github.com/natarajan95), [Moinak Pyne](https://github.com/MoinakPyne), Energy Storage Systems Lab, The University of Texas at Dallas\n",
        "\n",
        "\n",
        "\n",
        "---\n",
        "\n",
        "**To Do:**\n",
        "\n",
        "*   Introduce 70-30 train-validation split on the data file to exhibit it's actual working\n",
        "*   Feel free to play with Epoch, Batch Size and other parameters for desired results\n",
        "*   Visualization of results coming up!\n",
        "\n"
      ]
    },
    {
      "metadata": {
        "id": "rW7-mims7-O3",
        "colab_type": "code",
        "colab": {
          "base_uri": "https://localhost:8080/",
          "height": 35
        },
        "outputId": "8439bca6-942d-4f52-c013-37cad14524c3"
      },
      "cell_type": "code",
      "source": [
        "import tensorflow as tf\n",
        "import keras as k\n",
        "from keras.layers import Dense\n",
        "from keras.models import Sequential\n",
        "import pandas as pd\n",
        "import numpy as np\n",
        "import numpy.polynomial.polynomial as poly\n",
        "#print(tf.__version__, k.__version__)"
      ],
      "execution_count": 1,
      "outputs": [
        {
          "output_type": "stream",
          "text": [
            "Using TensorFlow backend.\n"
          ],
          "name": "stderr"
        }
      ]
    },
    {
      "metadata": {
        "id": "1TAFOSqc-o5G",
        "colab_type": "code",
        "colab": {}
      },
      "cell_type": "code",
      "source": [
        ""
      ],
      "execution_count": 0,
      "outputs": []
    },
    {
      "metadata": {
        "id": "JVstMvaS9rV7",
        "colab_type": "code",
        "colab": {}
      },
      "cell_type": "code",
      "source": [
        "# Read training data onto dataframe (5 Columns; Time, Voltage, Current, Temp, SOC; First Row is header)\n",
        "train_df0 = pd.read_csv(\"./Q0Test_data_25C_Test0.csv\", header=0)\n",
        "\n",
        "# If multiple files are to be used in future, following line may be used to concat\n",
        "train_df = pd.concat([train_df0])\n",
        "\n",
        "# Check for missing entries on dataframe. If so, stop execution\n",
        "temp_check_missing = np.where(train_df['Current'].isna())\n",
        "\n",
        "if temp_check_missing[0].size:\n",
        "  print(\"Error. Missing Elements in Data File\")"
      ],
      "execution_count": 0,
      "outputs": []
    },
    {
      "metadata": {
        "id": "rC3jK-lJ-o7l",
        "colab_type": "code",
        "outputId": "33ccd926-6e7a-4f24-a40a-78d0b8913209",
        "colab": {
          "base_uri": "https://localhost:8080/",
          "height": 194
        }
      },
      "cell_type": "code",
      "source": [
        "# Reorder Columns and look at a sample \n",
        "train_df=train_df.reindex(columns=[\"Current\", \"Temp\", \"Voltage\", \"SOC\"])\n",
        "train_df.head()"
      ],
      "execution_count": 3,
      "outputs": [
        {
          "output_type": "execute_result",
          "data": {
            "text/html": [
              "<div>\n",
              "<style scoped>\n",
              "    .dataframe tbody tr th:only-of-type {\n",
              "        vertical-align: middle;\n",
              "    }\n",
              "\n",
              "    .dataframe tbody tr th {\n",
              "        vertical-align: top;\n",
              "    }\n",
              "\n",
              "    .dataframe thead th {\n",
              "        text-align: right;\n",
              "    }\n",
              "</style>\n",
              "<table border=\"1\" class=\"dataframe\">\n",
              "  <thead>\n",
              "    <tr style=\"text-align: right;\">\n",
              "      <th></th>\n",
              "      <th>Current</th>\n",
              "      <th>Temp</th>\n",
              "      <th>Voltage</th>\n",
              "      <th>SOC</th>\n",
              "    </tr>\n",
              "  </thead>\n",
              "  <tbody>\n",
              "    <tr>\n",
              "      <th>0</th>\n",
              "      <td>0.0</td>\n",
              "      <td>24.19694</td>\n",
              "      <td>12.47880</td>\n",
              "      <td>100.0</td>\n",
              "    </tr>\n",
              "    <tr>\n",
              "      <th>1</th>\n",
              "      <td>0.0</td>\n",
              "      <td>24.16815</td>\n",
              "      <td>12.47891</td>\n",
              "      <td>100.0</td>\n",
              "    </tr>\n",
              "    <tr>\n",
              "      <th>2</th>\n",
              "      <td>0.0</td>\n",
              "      <td>24.17414</td>\n",
              "      <td>12.47868</td>\n",
              "      <td>100.0</td>\n",
              "    </tr>\n",
              "    <tr>\n",
              "      <th>3</th>\n",
              "      <td>0.0</td>\n",
              "      <td>24.18038</td>\n",
              "      <td>12.47868</td>\n",
              "      <td>100.0</td>\n",
              "    </tr>\n",
              "    <tr>\n",
              "      <th>4</th>\n",
              "      <td>0.0</td>\n",
              "      <td>24.17407</td>\n",
              "      <td>12.47885</td>\n",
              "      <td>100.0</td>\n",
              "    </tr>\n",
              "  </tbody>\n",
              "</table>\n",
              "</div>"
            ],
            "text/plain": [
              "   Current      Temp   Voltage    SOC\n",
              "0      0.0  24.19694  12.47880  100.0\n",
              "1      0.0  24.16815  12.47891  100.0\n",
              "2      0.0  24.17414  12.47868  100.0\n",
              "3      0.0  24.18038  12.47868  100.0\n",
              "4      0.0  24.17407  12.47885  100.0"
            ]
          },
          "metadata": {
            "tags": []
          },
          "execution_count": 3
        }
      ]
    },
    {
      "metadata": {
        "id": "ZywK6EVkBKyu",
        "colab_type": "code",
        "colab": {}
      },
      "cell_type": "code",
      "source": [
        "# Using Temperature and Voltage data for input\n",
        "# Using SOC value as Output\n",
        "train_x = train_df.iloc[:, 1:3].values\n",
        "train_y = train_df.iloc[:, 3].values"
      ],
      "execution_count": 0,
      "outputs": []
    },
    {
      "metadata": {
        "id": "zO-nBrvRCiIp",
        "colab_type": "code",
        "colab": {
          "base_uri": "https://localhost:8080/",
          "height": 90
        },
        "outputId": "66ad8a53-387c-47a1-99dc-fb0cc8c8ab76"
      },
      "cell_type": "code",
      "source": [
        "# Define a sequential Model\n",
        "model = Sequential()\n",
        "model.add(Dense(10, input_dim=2, kernel_initializer='normal', activation='relu'))\n",
        "model.add(Dense(4, kernel_initializer='normal', activation='relu'))\n",
        "model.add(Dense(1, kernel_initializer='normal'))"
      ],
      "execution_count": 5,
      "outputs": [
        {
          "output_type": "stream",
          "text": [
            "WARNING:tensorflow:From /usr/local/lib/python3.6/dist-packages/tensorflow/python/framework/op_def_library.py:263: colocate_with (from tensorflow.python.framework.ops) is deprecated and will be removed in a future version.\n",
            "Instructions for updating:\n",
            "Colocations handled automatically by placer.\n"
          ],
          "name": "stdout"
        }
      ]
    },
    {
      "metadata": {
        "id": "OHA9CJ-1CmZP",
        "colab_type": "code",
        "colab": {}
      },
      "cell_type": "code",
      "source": [
        "# Define Optimizers and other parameters\n",
        "from keras import optimizers\n",
        "opt_var = optimizers.Adam(lr=0.0001)\n",
        "loss_var = 'mean_squared_error'\n",
        "metrics_monitor = ['cosine_proximity']\n",
        "epoch = 10\n",
        "batch_sz = 16"
      ],
      "execution_count": 0,
      "outputs": []
    },
    {
      "metadata": {
        "id": "DRBI8WyuCtAw",
        "colab_type": "code",
        "outputId": "0a802aee-a225-44d0-db1d-babaf0cf0d36",
        "colab": {
          "base_uri": "https://localhost:8080/",
          "height": 248
        }
      },
      "cell_type": "code",
      "source": [
        "# Compile and view model summary\n",
        "model.compile(loss=loss_var, optimizer=opt_var, metrics=metrics_monitor)\n",
        "model.summary()"
      ],
      "execution_count": 7,
      "outputs": [
        {
          "output_type": "stream",
          "text": [
            "_________________________________________________________________\n",
            "Layer (type)                 Output Shape              Param #   \n",
            "=================================================================\n",
            "dense_1 (Dense)              (None, 10)                30        \n",
            "_________________________________________________________________\n",
            "dense_2 (Dense)              (None, 4)                 44        \n",
            "_________________________________________________________________\n",
            "dense_3 (Dense)              (None, 1)                 5         \n",
            "=================================================================\n",
            "Total params: 79\n",
            "Trainable params: 79\n",
            "Non-trainable params: 0\n",
            "_________________________________________________________________\n"
          ],
          "name": "stdout"
        }
      ]
    },
    {
      "metadata": {
        "id": "2ukakVYpDIfO",
        "colab_type": "code",
        "outputId": "fccb4959-abe6-4d48-8037-0629585b1d7e",
        "colab": {
          "base_uri": "https://localhost:8080/",
          "height": 464
        }
      },
      "cell_type": "code",
      "source": [
        "# Train network\n",
        "model.fit(train_x, train_y, epochs=epoch, batch_size=batch_sz)"
      ],
      "execution_count": 8,
      "outputs": [
        {
          "output_type": "stream",
          "text": [
            "WARNING:tensorflow:From /usr/local/lib/python3.6/dist-packages/tensorflow/python/ops/math_ops.py:3066: to_int32 (from tensorflow.python.ops.math_ops) is deprecated and will be removed in a future version.\n",
            "Instructions for updating:\n",
            "Use tf.cast instead.\n",
            "Epoch 1/10\n",
            "3238/3238 [==============================] - 0s 107us/step - loss: 3384.3848 - cosine_proximity: -0.9997\n",
            "Epoch 2/10\n",
            "3238/3238 [==============================] - 0s 54us/step - loss: 3377.3073 - cosine_proximity: -0.9997\n",
            "Epoch 3/10\n",
            "3238/3238 [==============================] - 0s 55us/step - loss: 3361.6045 - cosine_proximity: -0.9997\n",
            "Epoch 4/10\n",
            "3238/3238 [==============================] - 0s 56us/step - loss: 3328.7383 - cosine_proximity: -0.9997\n",
            "Epoch 5/10\n",
            "3238/3238 [==============================] - 0s 56us/step - loss: 3273.5288 - cosine_proximity: -0.9997\n",
            "Epoch 6/10\n",
            "3238/3238 [==============================] - 0s 56us/step - loss: 3193.5481 - cosine_proximity: -0.9997\n",
            "Epoch 7/10\n",
            "3238/3238 [==============================] - 0s 58us/step - loss: 3087.6852 - cosine_proximity: -0.9997\n",
            "Epoch 8/10\n",
            "3238/3238 [==============================] - 0s 55us/step - loss: 2956.6388 - cosine_proximity: -0.9997\n",
            "Epoch 9/10\n",
            "3238/3238 [==============================] - 0s 54us/step - loss: 2803.2254 - cosine_proximity: -0.9997\n",
            "Epoch 10/10\n",
            "3238/3238 [==============================] - 0s 52us/step - loss: 2630.3318 - cosine_proximity: -0.9997\n"
          ],
          "name": "stdout"
        },
        {
          "output_type": "execute_result",
          "data": {
            "text/plain": [
              "<keras.callbacks.History at 0x7fc2a14e36a0>"
            ]
          },
          "metadata": {
            "tags": []
          },
          "execution_count": 8
        }
      ]
    },
    {
      "metadata": {
        "id": "6AK8ydHXDWjo",
        "colab_type": "code",
        "colab": {
          "base_uri": "https://localhost:8080/",
          "height": 88
        },
        "outputId": "4ebaf6ca-9b1b-489d-a218-b731999c3713"
      },
      "cell_type": "code",
      "source": [
        "# Validation file list\n",
        "\n",
        "test_files = [\"./Q0Test_data_25C_Test0.csv\"]\n",
        "              \n",
        "actual_soc_list = []\n",
        "pred_soc_list = []\n",
        "actual_op_list = []\n",
        "pred_op_list = []\n",
        "\n",
        "\n",
        "for file_name in test_files:\n",
        "  test_df = pd.read_csv(file_name, header=0)\n",
        "  test_df = test_df.reindex(columns=[\"Current\", \"Temp\", \"Voltage\", \"SOC\"])\n",
        "  test_x = test_df.iloc[:, 1:3].values\n",
        "  y_actual = test_df.iloc[:, 3].values\n",
        "\n",
        "  # Model prediction\n",
        "  y_pred = model.predict(test_x)\n",
        "  \n",
        "  # Curve fit through predicted values - Shift the curve to start at 100%\n",
        "  \n",
        "  x = np.arange(0, len(y_pred))\n",
        "  y = np.nan_to_num(y_pred)\n",
        "  coefs2 = poly.polyfit(x, y-100, [1])\n",
        "  coefs2 = np.squeeze(coefs2)\n",
        "  coefs2[0] = 100\n",
        "  x = np.arange(0, len(y_pred)+500)\n",
        "  ffit2 = poly.polyval(x,coefs2)\n",
        "  y_pred = ffit2\n",
        "\n",
        "  # Cutoff all values above 100 % and below 0 %\n",
        "  y_pred[y_pred > 100] = 100\n",
        "  y_pred[y_pred < 0] = 0\n",
        "  \n",
        "  actual_soc = test_df.iloc[:,3].values\n",
        "  # Store entire list of actual SOC values for future use\n",
        "  actual_op_list.append(actual_soc)\n",
        "  pred_soc = y_pred\n",
        "  # Store entire list of predcited SOC values for future use\n",
        "  pred_op_list.append(pred_soc)\n",
        "\n",
        "  # Capacity Estimation\n",
        "  actual_ix = -1\n",
        "  pred_ix = -1\n",
        "  # Locate point where the actual and predicted curves reach 0% SOC\n",
        "  for ix, item in enumerate(actual_soc):\n",
        "    if item < 0.05:\n",
        "      actual_ix = ix; break;\n",
        "\n",
        "  for ix, item in enumerate(pred_soc):\n",
        "    if item < 0.05:\n",
        "      pred_ix = ix; break;\n",
        "  # Identify Capacity by summing currents across the entire cycle; Percent error\n",
        "  pred_soc_value = pred_ix*2.2/3600\n",
        "  actual_soc_value = actual_ix*2.2/3600\n",
        "  percent_error = ((actual_soc_value - pred_soc_value)*100/actual_soc_value)\n",
        "  # Display\n",
        "  print(\"File Name       : \", file_name)\n",
        "  print(\"Predicted SOC   : \", pred_soc_value)\n",
        "  print(\"Actual SOC      : \", actual_soc_value)\n",
        "  print(\"Percent Error   : \",percent_error)\n",
        "  actual_soc_list.append(actual_soc_value)\n",
        "  pred_soc_list.append(pred_soc_value)"
      ],
      "execution_count": 9,
      "outputs": [
        {
          "output_type": "stream",
          "text": [
            "File Name       :  ./Q0Test_data_25C_Test0.csv\n",
            "Predicted SOC   :  1.4550555555555558\n",
            "Actual SOC      :  1.973277777777778\n",
            "Percent Error   :  26.262000619386804\n"
          ],
          "name": "stdout"
        }
      ]
    },
    {
      "metadata": {
        "id": "q-kOMQeYVqIa",
        "colab_type": "code",
        "colab": {}
      },
      "cell_type": "code",
      "source": [
        ""
      ],
      "execution_count": 0,
      "outputs": []
    }
  ]
}